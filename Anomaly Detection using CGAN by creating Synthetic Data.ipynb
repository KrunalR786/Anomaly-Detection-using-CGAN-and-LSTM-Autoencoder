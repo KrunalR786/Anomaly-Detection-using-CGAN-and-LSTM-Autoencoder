{
  "nbformat": 4,
  "nbformat_minor": 0,
  "metadata": {
    "colab": {
      "name": "CGAN_for_Tabular_Data_.ipynb",
      "provenance": [],
      "collapsed_sections": []
    },
    "kernelspec": {
      "name": "python3",
      "display_name": "Python 3"
    },
    "language_info": {
      "name": "python"
    },
    "accelerator": "GPU"
  },
  "cells": [
    {
      "cell_type": "markdown",
      "source": [
        "## **Generating Tabular Data using GANs**\n",
        "\n",
        "Generative Adversarial Networks are type of unsupervised machine learning method which try to generate new, synthetic instances of data that mimics the real data. They are extremely popular in image, video (Deepfake) and voice generation. Generating tabular data using GANs isn't as popular as generating images, but can still produce some pretty good results. This notebook tries to do just that. GANs are constructed of two neural networks: Generator and Discriminator. Generator, using some random noise as input, tries to mimic the real data and Discriminator tries to classify the data into real and fake. It could be said that they are eachothers enemies. Both Neural Networks (Generator and Discriminator) are trained separately through backpropagation with regards to their loss."
      ],
      "metadata": {
        "id": "N6LEnB1TOVJu"
      }
    },
    {
      "cell_type": "markdown",
      "source": [
        "## **Conditional GAN**\n",
        "\n",
        "Conditional GAN or cGAN is a type of Generative Adversarial Network which adds the label y as an additional parameter to the generator in hope that the corresponding data will be generated. The labels are also added to the discriminator input to distinguish real data better."
      ],
      "metadata": {
        "id": "ZXvQR3ejPDPm"
      }
    },
    {
      "cell_type": "code",
      "source": [
        "import numpy as np\n",
        "import pandas as pd\n",
        "import matplotlib.pyplot as plt\n",
        "import seaborn as sns\n",
        "from sklearn import preprocessing\n",
        "from sklearn.preprocessing import StandardScaler\n",
        "from sklearn.metrics import precision_score, recall_score, f1_score,\\\n",
        "                            accuracy_score, balanced_accuracy_score,classification_report,\\\n",
        "                            plot_confusion_matrix, confusion_matrix\n",
        "from sklearn.model_selection import KFold, GridSearchCV\n",
        "from sklearn.model_selection import train_test_split\n",
        "\n",
        "import lightgbm as lgb\n",
        "from tensorflow.keras.layers import Input, Dense, Reshape, Flatten, Dropout, multiply, Concatenate\n",
        "from tensorflow.keras.layers import BatchNormalization, Activation, Embedding, ZeroPadding2D, LeakyReLU\n",
        "from tensorflow.keras.models import Sequential, Model\n",
        "from tensorflow.keras.optimizers import Adam\n",
        "from tensorflow.keras.initializers import RandomNormal\n",
        "import tensorflow.keras.backend as K\n",
        "from sklearn.utils import shuffle\n",
        "\n",
        "np.random.seed(1635848)"
      ],
      "metadata": {
        "id": "wohm2gFoGlAh"
      },
      "execution_count": 1,
      "outputs": []
    },
    {
      "cell_type": "markdown",
      "source": [
        "First dataset has 20 features including one class that we will try to predict (label). Dataset contains a lot of untidy features that need some preprocessing before feeding it into the algorithm."
      ],
      "metadata": {
        "id": "dcmxMy3aPSPF"
      }
    },
    {
      "cell_type": "code",
      "source": [
        "data = pd.read_csv('master_3lakh.csv')"
      ],
      "metadata": {
        "id": "h8nEDLRFZ6fF"
      },
      "execution_count": 2,
      "outputs": []
    },
    {
      "cell_type": "code",
      "source": [
        "# Duplicates? Yes\n",
        "\n",
        "normal_duplicates = sum( data.loc[ data.label==0 ].duplicated() )\n",
        "fraud_duplicates = sum( data.loc[ data.label==1 ].duplicated() )\n",
        "total_duplicates = normal_duplicates + fraud_duplicates\n",
        "\n",
        "print( 'Normal duplicates', normal_duplicates )\n",
        "print( 'Fraud duplicates', fraud_duplicates )\n",
        "print( 'Total duplicates', total_duplicates )\n",
        "print( 'Fraction duplicated', total_duplicates / len(data) )"
      ],
      "metadata": {
        "colab": {
          "base_uri": "https://localhost:8080/"
        },
        "id": "Kzuw-Mwn9Bz1",
        "outputId": "950359b1-c5f9-4885-9d22-e8ccecf4a988"
      },
      "execution_count": 3,
      "outputs": [
        {
          "output_type": "stream",
          "name": "stdout",
          "text": [
            "Normal duplicates 0\n",
            "Fraud duplicates 0\n",
            "Total duplicates 0\n",
            "Fraction duplicated 0.0\n"
          ]
        }
      ]
    },
    {
      "cell_type": "code",
      "source": [
        "# several columns heavily skewed, 'label' the highest (besides Class) ..Best value should be in between [-1,1]\n",
        "\n",
        "data.skew()"
      ],
      "metadata": {
        "colab": {
          "base_uri": "https://localhost:8080/"
        },
        "id": "4AMLc0jC9MfV",
        "outputId": "ca802e57-fbe5-4e7a-94cc-f21f39d910a6"
      },
      "execution_count": 4,
      "outputs": [
        {
          "output_type": "stream",
          "name": "stderr",
          "text": [
            "/usr/local/lib/python3.7/dist-packages/ipykernel_launcher.py:3: FutureWarning: Dropping of nuisance columns in DataFrame reductions (with 'numeric_only=None') is deprecated; in a future version this will raise TypeError.  Select only valid columns before calling the reduction.\n",
            "  This is separate from the ipykernel package so we can avoid doing imports until\n"
          ]
        },
        {
          "output_type": "execute_result",
          "data": {
            "text/plain": [
              "Unnamed: 0    -0.002965\n",
              "L1             5.941209\n",
              "L2             7.421356\n",
              "L3             0.037613\n",
              "L4             8.432541\n",
              "L5             1.916166\n",
              "L6             1.887193\n",
              "L7             5.800135\n",
              "L8             6.284124\n",
              "L9             2.784055\n",
              "D1             4.977041\n",
              "D2             0.688985\n",
              "H1             1.550992\n",
              "E1             1.143988\n",
              "E2             0.569535\n",
              "E3             1.731593\n",
              "E4             1.797490\n",
              "E5             0.311634\n",
              "F1             1.712344\n",
              "label         62.001553\n",
              "dtype: float64"
            ]
          },
          "metadata": {},
          "execution_count": 4
        }
      ]
    },
    {
      "cell_type": "code",
      "source": [
        "# Looks like all 'Amount' values are rounded to the hundredths (0.01) place\n",
        "data['L2'].mod(0.01).hist() ;"
      ],
      "metadata": {
        "colab": {
          "base_uri": "https://localhost:8080/",
          "height": 265
        },
        "id": "B5_A_xw__ium",
        "outputId": "de96c315-9220-4c71-b38d-e540a33cdbd0"
      },
      "execution_count": 5,
      "outputs": [
        {
          "output_type": "display_data",
          "data": {
            "text/plain": [
              "<Figure size 432x288 with 1 Axes>"
            ],
            "image/png": "[encoded data removed]"
          },
          "metadata": {
            "needs_background": "light"
          }
        }
      ]
    },
    {
      "cell_type": "code",
      "source": [
        "# Some values are much more frequent than others\n",
        "# 0.00 comes in 12th in the list\n",
        "\n",
        "print( data.L2.value_counts().head(15) )"
      ],
      "metadata": {
        "colab": {
          "base_uri": "https://localhost:8080/"
        },
        "id": "sCQNgH-z_8ZW",
        "outputId": "5f93126e-0b22-4b44-8be4-795dbf6b02f0"
      },
      "execution_count": 6,
      "outputs": [
        {
          "output_type": "stream",
          "name": "stdout",
          "text": [
            "60.0     4553\n",
            "120.0    4089\n",
            "45.0     3752\n",
            "135.0    3006\n",
            "121.0    2995\n",
            "30.0     2972\n",
            "61.0     2892\n",
            "15.0     2713\n",
            "122.0    2689\n",
            "90.0     2615\n",
            "46.0     2604\n",
            "75.0     2550\n",
            "62.0     2500\n",
            "47.0     2426\n",
            "165.0    2373\n",
            "Name: L2, dtype: int64\n"
          ]
        }
      ]
    },
    {
      "cell_type": "code",
      "source": [
        "# Log transform amount values to give more normal distribution\n",
        "\n",
        "plt.figure(figsize=(14,5))\n",
        "plt.subplot(1,2,1)\n",
        "plt.hist(data['L2'], bins=40)\n",
        "plt.title('Original Amount Distribution')\n",
        "\n",
        "plt.subplot(1,2,2)\n",
        "d0 = np.log10( data['L2'].values + 1 )\n",
        "# d0 = np.log1p( data['Amount'].values ) / np.log(10)\n",
        "plt.hist( d0, bins=40 )\n",
        "plt.title('Log10(x+1) Transformed Amount Distribution')\n",
        "plt.show()"
      ],
      "metadata": {
        "colab": {
          "base_uri": "https://localhost:8080/",
          "height": 336
        },
        "id": "UgktKw4_AFTL",
        "outputId": "4442e9a8-91b9-4f34-b150-477d7d5e0904"
      },
      "execution_count": 7,
      "outputs": [
        {
          "output_type": "display_data",
          "data": {
            "text/plain": [
              "<Figure size 1008x360 with 2 Axes>"
            ],
            "image/png": "[encoded data removed]"
          },
          "metadata": {
            "needs_background": "light"
          }
        }
      ]
    },
    {
      "cell_type": "code",
      "source": [
        "# # Use log transformed data\n",
        "\n",
        "# data['L2'] = d0"
      ],
      "metadata": {
        "id": "rD6CQ1KIALiC"
      },
      "execution_count": 8,
      "outputs": []
    },
    {
      "cell_type": "code",
      "source": [
        "data.isnull().sum()"
      ],
      "metadata": {
        "colab": {
          "base_uri": "https://localhost:8080/"
        },
        "id": "0jjIkmfUaOFc",
        "outputId": "b30f42a2-5e35-4185-d0d9-fec162215051"
      },
      "execution_count": 9,
      "outputs": [
        {
          "output_type": "execute_result",
          "data": {
            "text/plain": [
              "Unnamed: 0         0\n",
              "date               0\n",
              "user               0\n",
              "L1                63\n",
              "L2                63\n",
              "L3                63\n",
              "L4                63\n",
              "L5                63\n",
              "L6                63\n",
              "L7                63\n",
              "L8                63\n",
              "L9                63\n",
              "D1            256899\n",
              "D2            256899\n",
              "H1               645\n",
              "E1              2652\n",
              "E2              2652\n",
              "E3              2652\n",
              "E4              2652\n",
              "E5              2652\n",
              "F1            233093\n",
              "label              0\n",
              "dtype: int64"
            ]
          },
          "metadata": {},
          "execution_count": 9
        }
      ]
    },
    {
      "cell_type": "code",
      "source": [
        "data.drop(columns=['Unnamed: 0','D1','D2','F1'],axis=1,inplace=True)"
      ],
      "metadata": {
        "id": "yF2qxSEGaRpd"
      },
      "execution_count": 10,
      "outputs": []
    },
    {
      "cell_type": "code",
      "source": [
        "data.isnull().sum()"
      ],
      "metadata": {
        "colab": {
          "base_uri": "https://localhost:8080/"
        },
        "id": "RhSKYYPjalfz",
        "outputId": "cecdcecf-2299-4b9b-f78b-e868be4cef0c"
      },
      "execution_count": 11,
      "outputs": [
        {
          "output_type": "execute_result",
          "data": {
            "text/plain": [
              "date        0\n",
              "user        0\n",
              "L1         63\n",
              "L2         63\n",
              "L3         63\n",
              "L4         63\n",
              "L5         63\n",
              "L6         63\n",
              "L7         63\n",
              "L8         63\n",
              "L9         63\n",
              "H1        645\n",
              "E1       2652\n",
              "E2       2652\n",
              "E3       2652\n",
              "E4       2652\n",
              "E5       2652\n",
              "label       0\n",
              "dtype: int64"
            ]
          },
          "metadata": {},
          "execution_count": 11
        }
      ]
    },
    {
      "cell_type": "code",
      "source": [
        "data = data.fillna(0)"
      ],
      "metadata": {
        "id": "B1kNqb7vIKF-"
      },
      "execution_count": 12,
      "outputs": []
    },
    {
      "cell_type": "code",
      "source": [
        "data.isnull().sum()"
      ],
      "metadata": {
        "id": "DM8THQ0waosE",
        "colab": {
          "base_uri": "https://localhost:8080/"
        },
        "outputId": "311714b0-21e3-4ac4-aa43-dc54dafc1a5e"
      },
      "execution_count": 13,
      "outputs": [
        {
          "output_type": "execute_result",
          "data": {
            "text/plain": [
              "date     0\n",
              "user     0\n",
              "L1       0\n",
              "L2       0\n",
              "L3       0\n",
              "L4       0\n",
              "L5       0\n",
              "L6       0\n",
              "L7       0\n",
              "L8       0\n",
              "L9       0\n",
              "H1       0\n",
              "E1       0\n",
              "E2       0\n",
              "E3       0\n",
              "E4       0\n",
              "E5       0\n",
              "label    0\n",
              "dtype: int64"
            ]
          },
          "metadata": {},
          "execution_count": 13
        }
      ]
    },
    {
      "cell_type": "code",
      "source": [
        "# Add column for year\n",
        "data[\"Year\"] = pd.to_datetime(data[\"date\"], format=\"%Y-%m-%d\").dt.year\n",
        "\n",
        "# Add column for day\n",
        "data[\"Day\"] = pd.to_datetime(data[\"date\"], format=\"%Y-%m-%d\").dt.day\n",
        "\n",
        "data[\"month\"] = pd.to_datetime(data[\"date\"], format=\"%Y-%m-%d\").dt.month"
      ],
      "metadata": {
        "id": "gpYnwtcBa4YI"
      },
      "execution_count": 14,
      "outputs": []
    },
    {
      "cell_type": "code",
      "source": [
        "data.drop('date',axis=1,inplace=True)"
      ],
      "metadata": {
        "id": "MT6bmOM4blkG"
      },
      "execution_count": 15,
      "outputs": []
    },
    {
      "cell_type": "code",
      "source": [
        "data.head(2)"
      ],
      "metadata": {
        "colab": {
          "base_uri": "https://localhost:8080/",
          "height": 112
        },
        "id": "c69Xhys5bnxr",
        "outputId": "a2b3ee45-a5c7-4d35-8f22-bfe0264e0437"
      },
      "execution_count": 16,
      "outputs": [
        {
          "output_type": "execute_result",
          "data": {
            "text/plain": [
              "      user          L1      L2        L3   L4   L5   L6    L7    L8  \\\n",
              "0  QWL3474  357.150000  150.00  0.333333  0.0  1.0  1.0  76.0  12.0   \n",
              "1  TJB0540  710.133333  382.35  0.000000  0.0  0.0  0.0  85.0   0.0   \n",
              "\n",
              "           L9    H1    E1    E2    E3         E4    E5  label  Year  Day  \\\n",
              "0  169.050000  83.0  13.0  29.0   4.0  3404386.0  42.0      0  2011    4   \n",
              "1  218.496667  12.0   7.0  15.0  12.0  9018108.0  22.0      0  2011    1   \n",
              "\n",
              "   month  \n",
              "0      2  \n",
              "1      2  "
            ],
            "text/html": [
              "\n",
              "  <div id=\"df-3523dbcf-ed3f-4505-8ccc-f11dac971714\">\n",
              "    <div class=\"colab-df-container\">\n",
              "      <div>\n",
              "<style scoped>\n",
              "    .dataframe tbody tr th:only-of-type {\n",
              "        vertical-align: middle;\n",
              "    }\n",
              "\n",
              "    .dataframe tbody tr th {\n",
              "        vertical-align: top;\n",
              "    }\n",
              "\n",
              "    .dataframe thead th {\n",
              "        text-align: right;\n",
              "    }\n",
              "</style>\n",
              "<table border=\"1\" class=\"dataframe\">\n",
              "  <thead>\n",
              "    <tr style=\"text-align: right;\">\n",
              "      <th></th>\n",
              "      <th>user</th>\n",
              "      <th>L1</th>\n",
              "      <th>L2</th>\n",
              "      <th>L3</th>\n",
              "      <th>L4</th>\n",
              "      <th>L5</th>\n",
              "      <th>L6</th>\n",
              "      <th>L7</th>\n",
              "      <th>L8</th>\n",
              "      <th>L9</th>\n",
              "      <th>H1</th>\n",
              "      <th>E1</th>\n",
              "      <th>E2</th>\n",
              "      <th>E3</th>\n",
              "      <th>E4</th>\n",
              "      <th>E5</th>\n",
              "      <th>label</th>\n",
              "      <th>Year</th>\n",
              "      <th>Day</th>\n",
              "      <th>month</th>\n",
              "    </tr>\n",
              "  </thead>\n",
              "  <tbody>\n",
              "    <tr>\n",
              "      <th>0</th>\n",
              "      <td>QWL3474</td>\n",
              "      <td>357.150000</td>\n",
              "      <td>150.00</td>\n",
              "      <td>0.333333</td>\n",
              "      <td>0.0</td>\n",
              "      <td>1.0</td>\n",
              "      <td>1.0</td>\n",
              "      <td>76.0</td>\n",
              "      <td>12.0</td>\n",
              "      <td>169.050000</td>\n",
              "      <td>83.0</td>\n",
              "      <td>13.0</td>\n",
              "      <td>29.0</td>\n",
              "      <td>4.0</td>\n",
              "      <td>3404386.0</td>\n",
              "      <td>42.0</td>\n",
              "      <td>0</td>\n",
              "      <td>2011</td>\n",
              "      <td>4</td>\n",
              "      <td>2</td>\n",
              "    </tr>\n",
              "    <tr>\n",
              "      <th>1</th>\n",
              "      <td>TJB0540</td>\n",
              "      <td>710.133333</td>\n",
              "      <td>382.35</td>\n",
              "      <td>0.000000</td>\n",
              "      <td>0.0</td>\n",
              "      <td>0.0</td>\n",
              "      <td>0.0</td>\n",
              "      <td>85.0</td>\n",
              "      <td>0.0</td>\n",
              "      <td>218.496667</td>\n",
              "      <td>12.0</td>\n",
              "      <td>7.0</td>\n",
              "      <td>15.0</td>\n",
              "      <td>12.0</td>\n",
              "      <td>9018108.0</td>\n",
              "      <td>22.0</td>\n",
              "      <td>0</td>\n",
              "      <td>2011</td>\n",
              "      <td>1</td>\n",
              "      <td>2</td>\n",
              "    </tr>\n",
              "  </tbody>\n",
              "</table>\n",
              "</div>\n",
              "      <button class=\"colab-df-convert\" onclick=\"convertToInteractive('df-3523dbcf-ed3f-4505-8ccc-f11dac971714')\"\n",
              "              title=\"Convert this dataframe to an interactive table.\"\n",
              "              style=\"display:none;\">\n",
              "        \n",
              "  <svg xmlns=\"http://www.w3.org/2000/svg\" height=\"24px\"viewBox=\"0 0 24 24\"\n",
              "       width=\"24px\">\n",
              "    <path d=\"M0 0h24v24H0V0z\" fill=\"none\"/>\n",
              "    <path d=\"M18.56 5.44l.94 2.06.94-2.06 2.06-.94-2.06-.94-.94-2.06-.94 2.06-2.06.94zm-11 1L8.5 8.5l.94-2.06 2.06-.94-2.06-.94L8.5 2.5l-.94 2.06-2.06.94zm10 10l.94 2.06.94-2.06 2.06-.94-2.06-.94-.94-2.06-.94 2.06-2.06.94z\"/><path d=\"M17.41 7.96l-1.37-1.37c-.4-.4-.92-.59-1.43-.59-.52 0-1.04.2-1.43.59L10.3 9.45l-7.72 7.72c-.78.78-.78 2.05 0 2.83L4 21.41c.39.39.9.59 1.41.59.51 0 1.02-.2 1.41-.59l7.78-7.78 2.81-2.81c.8-.78.8-2.07 0-2.86zM5.41 20L4 18.59l7.72-7.72 1.47 1.35L5.41 20z\"/>\n",
              "  </svg>\n",
              "      </button>\n",
              "      \n",
              "  <style>\n",
              "    .colab-df-container {\n",
              "      display:flex;\n",
              "      flex-wrap:wrap;\n",
              "      gap: 12px;\n",
              "    }\n",
              "\n",
              "    .colab-df-convert {\n",
              "      background-color: #E8F0FE;\n",
              "      border: none;\n",
              "      border-radius: 50%;\n",
              "      cursor: pointer;\n",
              "      display: none;\n",
              "      fill: #1967D2;\n",
              "      height: 32px;\n",
              "      padding: 0 0 0 0;\n",
              "      width: 32px;\n",
              "    }\n",
              "\n",
              "    .colab-df-convert:hover {\n",
              "      background-color: #E2EBFA;\n",
              "      box-shadow: 0px 1px 2px rgba(60, 64, 67, 0.3), 0px 1px 3px 1px rgba(60, 64, 67, 0.15);\n",
              "      fill: #174EA6;\n",
              "    }\n",
              "\n",
              "    [theme=dark] .colab-df-convert {\n",
              "      background-color: #3B4455;\n",
              "      fill: #D2E3FC;\n",
              "    }\n",
              "\n",
              "    [theme=dark] .colab-df-convert:hover {\n",
              "      background-color: #434B5C;\n",
              "      box-shadow: 0px 1px 3px 1px rgba(0, 0, 0, 0.15);\n",
              "      filter: drop-shadow(0px 1px 2px rgba(0, 0, 0, 0.3));\n",
              "      fill: #FFFFFF;\n",
              "    }\n",
              "  </style>\n",
              "\n",
              "      <script>\n",
              "        const buttonEl =\n",
              "          document.querySelector('#df-3523dbcf-ed3f-4505-8ccc-f11dac971714 button.colab-df-convert');\n",
              "        buttonEl.style.display =\n",
              "          google.colab.kernel.accessAllowed ? 'block' : 'none';\n",
              "\n",
              "        async function convertToInteractive(key) {\n",
              "          const element = document.querySelector('#df-3523dbcf-ed3f-4505-8ccc-f11dac971714');\n",
              "          const dataTable =\n",
              "            await google.colab.kernel.invokeFunction('convertToInteractive',\n",
              "                                                     [key], {});\n",
              "          if (!dataTable) return;\n",
              "\n",
              "          const docLinkHtml = 'Like what you see? Visit the ' +\n",
              "            '<a target=\"_blank\" href=https://colab.research.google.com/notebooks/data_table.ipynb>data table notebook</a>'\n",
              "            + ' to learn more about interactive tables.';\n",
              "          element.innerHTML = '';\n",
              "          dataTable['output_type'] = 'display_data';\n",
              "          await google.colab.output.renderOutput(dataTable, element);\n",
              "          const docLink = document.createElement('div');\n",
              "          docLink.innerHTML = docLinkHtml;\n",
              "          element.appendChild(docLink);\n",
              "        }\n",
              "      </script>\n",
              "    </div>\n",
              "  </div>\n",
              "  "
            ]
          },
          "metadata": {},
          "execution_count": 16
        }
      ]
    },
    {
      "cell_type": "code",
      "source": [
        "data.drop('user',axis=1,inplace=True)"
      ],
      "metadata": {
        "id": "aKYK-ePkbu3r"
      },
      "execution_count": 17,
      "outputs": []
    },
    {
      "cell_type": "code",
      "source": [
        "data['label'].value_counts()"
      ],
      "metadata": {
        "colab": {
          "base_uri": "https://localhost:8080/"
        },
        "id": "ErANe7e3bzF8",
        "outputId": "890a3685-1910-456b-d00e-1cf1f4ed466b"
      },
      "execution_count": 18,
      "outputs": [
        {
          "output_type": "execute_result",
          "data": {
            "text/plain": [
              "0    300000\n",
              "1        78\n",
              "Name: label, dtype: int64"
            ]
          },
          "metadata": {},
          "execution_count": 18
        }
      ]
    },
    {
      "cell_type": "code",
      "source": [
        "data.columns"
      ],
      "metadata": {
        "id": "fvN-X9_IeLeV",
        "outputId": "e7b9bf95-909e-4fdb-e4ea-6acd1de8503d",
        "colab": {
          "base_uri": "https://localhost:8080/"
        }
      },
      "execution_count": 19,
      "outputs": [
        {
          "output_type": "execute_result",
          "data": {
            "text/plain": [
              "Index(['L1', 'L2', 'L3', 'L4', 'L5', 'L6', 'L7', 'L8', 'L9', 'H1', 'E1', 'E2',\n",
              "       'E3', 'E4', 'E5', 'label', 'Year', 'Day', 'month'],\n",
              "      dtype='object')"
            ]
          },
          "metadata": {},
          "execution_count": 19
        }
      ]
    },
    {
      "cell_type": "code",
      "source": [
        "pd.value_counts(data['label']).plot.bar()"
      ],
      "metadata": {
        "colab": {
          "base_uri": "https://localhost:8080/",
          "height": 279
        },
        "id": "L0XbOgUIb8G0",
        "outputId": "4de31eff-9338-4ae9-dbe7-5dfbbaebe765"
      },
      "execution_count": 20,
      "outputs": [
        {
          "output_type": "execute_result",
          "data": {
            "text/plain": [
              "<matplotlib.axes._subplots.AxesSubplot at 0x7fe77f057710>"
            ]
          },
          "metadata": {},
          "execution_count": 20
        },
        {
          "output_type": "display_data",
          "data": {
            "text/plain": [
              "<Figure size 432x288 with 1 Axes>"
            ],
            "image/png": "[encoded data removed]"
          },
          "metadata": {
            "needs_background": "light"
          }
        }
      ]
    },
    {
      "cell_type": "code",
      "source": [
        "from sklearn.preprocessing import StandardScaler\n",
        "data[['L1', 'L2', 'L3', 'L4', 'L5', 'L6', 'L7', 'L8', 'L9', 'H1', 'E1', 'E2',\n",
        "       'E3', 'E4', 'E5', 'Year', 'Day', 'month']] = StandardScaler().fit_transform(data[['L1', 'L2', 'L3', 'L4', 'L5', 'L6', 'L7', 'L8', 'L9', 'H1', 'E1', 'E2',\n",
        "       'E3', 'E4', 'E5', 'Year', 'Day', 'month']])"
      ],
      "metadata": {
        "id": "HEVf1fUpDKzV"
      },
      "execution_count": 21,
      "outputs": []
    },
    {
      "cell_type": "code",
      "source": [
        "x = data.drop('label', axis=1).values\n",
        "y = data.label.values"
      ],
      "metadata": {
        "id": "tIG1nLhecJXP"
      },
      "execution_count": 22,
      "outputs": []
    },
    {
      "cell_type": "code",
      "source": [
        "#train-test split\n",
        "from sklearn.model_selection import train_test_split \n",
        "X_train,X_test,y_train,y_test=train_test_split( x, y, test_size=0.20, random_state=0)"
      ],
      "metadata": {
        "id": "9k5wvLnOcREI"
      },
      "execution_count": 23,
      "outputs": []
    },
    {
      "cell_type": "code",
      "source": [
        "(y_test==0).sum(),(y_test==1).sum(),(y_train==1).sum()"
      ],
      "metadata": {
        "colab": {
          "base_uri": "https://localhost:8080/"
        },
        "id": "SSGqWxpJa4oC",
        "outputId": "215bc90e-8c87-4d7d-c65f-61623f5e7156"
      },
      "execution_count": 24,
      "outputs": [
        {
          "output_type": "execute_result",
          "data": {
            "text/plain": [
              "(59997, 19, 59)"
            ]
          },
          "metadata": {},
          "execution_count": 24
        }
      ]
    },
    {
      "cell_type": "code",
      "source": [
        "from imblearn.over_sampling import SMOTE\n",
        "\n",
        "smote = SMOTE(sampling_strategy='minority')\n",
        "X_sm, y_sm = smote.fit_resample(x, y)"
      ],
      "metadata": {
        "id": "7-O5Co_3cXvp"
      },
      "execution_count": 25,
      "outputs": []
    },
    {
      "cell_type": "code",
      "source": [
        "X_train1,X_test1,y_train1,y_test1 = train_test_split(X_sm, y_sm, test_size=0.20, random_state=0)\n",
        "X_train1.shape,X_test1.shape,y_train1.shape,y_test1.shape"
      ],
      "metadata": {
        "colab": {
          "base_uri": "https://localhost:8080/"
        },
        "id": "9ZOYD-QjcZjA",
        "outputId": "1fb0e4ce-60ec-47cb-a076-13d169009172"
      },
      "execution_count": 26,
      "outputs": [
        {
          "output_type": "execute_result",
          "data": {
            "text/plain": [
              "((480000, 18), (120000, 18), (480000,), (120000,))"
            ]
          },
          "metadata": {},
          "execution_count": 26
        }
      ]
    },
    {
      "cell_type": "code",
      "source": [
        "(y_test1==0).sum(),(y_test1==1).sum()"
      ],
      "metadata": {
        "colab": {
          "base_uri": "https://localhost:8080/"
        },
        "id": "-yaCWV5wZznF",
        "outputId": "d925ac37-6c99-4dac-f567-fcda06a33c38"
      },
      "execution_count": 27,
      "outputs": [
        {
          "output_type": "execute_result",
          "data": {
            "text/plain": [
              "(59856, 60144)"
            ]
          },
          "metadata": {},
          "execution_count": 27
        }
      ]
    },
    {
      "cell_type": "code",
      "source": [
        "class cGAN():\n",
        "    \n",
        "    \"\"\"\n",
        "    Class containing 3 methods (and __init__): generator, discriminator and train.\n",
        "    Generator is trained using random noise and label as inputs. Discriminator is trained\n",
        "    using real/fake samples and labels as inputs.\n",
        "    \"\"\"\n",
        "    \n",
        "    def __init__(self,latent_dim=32, out_shape=18):\n",
        "        \n",
        "        self.latent_dim = latent_dim\n",
        "        self.out_shape = out_shape \n",
        "        self.num_classes = 2\n",
        "        # using Adam as our optimizer\n",
        "        optimizer = Adam(0.0002, 0.5)\n",
        "        \n",
        "        # building the discriminator\n",
        "        self.discriminator = self.discriminator()\n",
        "        self.discriminator.compile(loss=['binary_crossentropy'],\n",
        "                                   optimizer=optimizer,\n",
        "                                   metrics=['accuracy'])\n",
        "\n",
        "        # building the generator\n",
        "        self.generator = self.generator()\n",
        "\n",
        "        noise = Input(shape=(self.latent_dim,))\n",
        "        label = Input(shape=(1,))\n",
        "        gen_samples = self.generator([noise, label])\n",
        "        \n",
        "        # we don't train discriminator when training generator\n",
        "        self.discriminator.trainable = False\n",
        "        valid = self.discriminator([gen_samples, label])\n",
        "\n",
        "        # combining both models\n",
        "        self.combined = Model([noise, label], valid)\n",
        "        self.combined.compile(loss=['binary_crossentropy'],\n",
        "                              optimizer=optimizer,\n",
        "                             metrics=['accuracy'])\n",
        "\n",
        "\n",
        "    def generator(self):\n",
        "        init = RandomNormal(mean=0.0, stddev=0.02)\n",
        "        model = Sequential()\n",
        "\n",
        "        model.add(Dense(128, input_dim=self.latent_dim))\n",
        "        model.add(Dropout(0.2))\n",
        "        model.add(LeakyReLU(alpha=0.2))\n",
        "        model.add(BatchNormalization(momentum=0.8))\n",
        "\n",
        "        model.add(Dense(256))\n",
        "        model.add(Dropout(0.2))\n",
        "        model.add(LeakyReLU(alpha=0.2))\n",
        "        model.add(BatchNormalization(momentum=0.8))\n",
        "\n",
        "        model.add(Dense(512))\n",
        "        model.add(Dropout(0.2))\n",
        "        model.add(LeakyReLU(alpha=0.2))\n",
        "        model.add(BatchNormalization(momentum=0.8))\n",
        "\n",
        "        model.add(Dense(self.out_shape, activation='tanh'))\n",
        "\n",
        "        noise = Input(shape=(self.latent_dim,))\n",
        "        label = Input(shape=(1,), dtype='int32')\n",
        "        label_embedding = Flatten()(Embedding(self.num_classes, self.latent_dim)(label))\n",
        "        \n",
        "        model_input = multiply([noise, label_embedding])\n",
        "        gen_sample = model(model_input)\n",
        "\n",
        "        return Model([noise, label], gen_sample, name=\"Generator\")\n",
        "\n",
        "    \n",
        "    def discriminator(self):\n",
        "        init = RandomNormal(mean=0.0, stddev=0.02)\n",
        "        model = Sequential()\n",
        "\n",
        "        model.add(Dense(512, input_dim=self.out_shape, kernel_initializer=init))\n",
        "        model.add(LeakyReLU(alpha=0.2))\n",
        "        \n",
        "        model.add(Dense(256, kernel_initializer=init))\n",
        "        model.add(LeakyReLU(alpha=0.2))\n",
        "        model.add(Dropout(0.4))\n",
        "        \n",
        "        model.add(Dense(128, kernel_initializer=init))\n",
        "        model.add(LeakyReLU(alpha=0.2))\n",
        "        model.add(Dropout(0.4))\n",
        "        \n",
        "        model.add(Dense(1, activation='sigmoid'))\n",
        "        \n",
        "        gen_sample = Input(shape=(self.out_shape,))\n",
        "        label = Input(shape=(1,), dtype='int32')\n",
        "        label_embedding = Flatten()(Embedding(self.num_classes, self.out_shape)(label))\n",
        "\n",
        "        model_input = multiply([gen_sample, label_embedding])\n",
        "        validity = model(model_input)\n",
        "\n",
        "        return Model(inputs=[gen_sample, label], outputs=validity, name=\"Discriminator\")\n",
        "\n",
        "\n",
        "    def train(self, X_train, y_train, pos_index, neg_index, epochs, sampling=False, batch_size=32, sample_interval=100, plot=True): \n",
        "        \n",
        "        # though not recommended, defining losses as global helps as in analysing our cgan out of the class\n",
        "        global G_losses\n",
        "        global D_losses\n",
        "        \n",
        "        G_losses = []\n",
        "        D_losses = []\n",
        "        # Adversarial ground truths\n",
        "        valid = np.ones((batch_size, 1))\n",
        "        fake = np.zeros((batch_size, 1))\n",
        "\n",
        "        for epoch in range(epochs):\n",
        "            \n",
        "            # if sampling==True --> train discriminator with 8 sample from postivite class and rest with negative class\n",
        "            if sampling:\n",
        "                idx1 = np.random.choice(pos_index, 8)\n",
        "                idx0 = np.random.choice(neg_index, batch_size-8)\n",
        "                idx = np.concatenate((idx1, idx0))\n",
        "            # if sampling!=True --> train discriminator using random instances in batches of 32\n",
        "            else:\n",
        "                idx = np.random.choice(len(y_train), batch_size)\n",
        "            samples, labels = X_train[idx], y_train[idx]\n",
        "            samples, labels = shuffle(samples, labels)\n",
        "            \n",
        "            # Sample noise as generator input\n",
        "            noise = np.random.normal(0, 1, (batch_size, self.latent_dim))\n",
        "            gen_samples = self.generator.predict([noise, labels])\n",
        "\n",
        "            # label smoothing\n",
        "            if epoch < epochs//1.5:\n",
        "                valid_smooth = (valid+0.1)-(np.random.random(valid.shape)*0.1)\n",
        "                fake_smooth = (fake-0.1)+(np.random.random(fake.shape)*0.1)\n",
        "            else:\n",
        "                valid_smooth = valid \n",
        "                fake_smooth = fake\n",
        "                \n",
        "            # Train the discriminator\n",
        "            self.discriminator.trainable = True\n",
        "            d_loss_real = self.discriminator.train_on_batch([samples, labels], valid_smooth)\n",
        "            d_loss_fake = self.discriminator.train_on_batch([gen_samples, labels], fake_smooth)\n",
        "            d_loss = 0.5 * np.add(d_loss_real, d_loss_fake)\n",
        "\n",
        "            # Train Generator\n",
        "            self.discriminator.trainable = False\n",
        "            sampled_labels = np.random.randint(0, 2, batch_size).reshape(-1, 1)\n",
        "            # Train the generator\n",
        "            g_loss = self.combined.train_on_batch([noise, sampled_labels], valid)\n",
        "\n",
        "            if (epoch+1)%sample_interval==0:\n",
        "                print('[%d/%d]\\tLoss_D: %.4f\\tLoss_G: %.4f'\n",
        "                  % (epoch, epochs, d_loss[0], g_loss[0]))\n",
        "            G_losses.append(g_loss[0])\n",
        "            D_losses.append(d_loss[0])\n",
        "            if plot:\n",
        "                if epoch+1==epochs:\n",
        "                    plt.figure(figsize=(10,5))\n",
        "                    plt.title(\"Generator and Discriminator Loss\")\n",
        "                    plt.plot(G_losses,label=\"G\")\n",
        "                    plt.plot(D_losses,label=\"D\")\n",
        "                    plt.xlabel(\"iterations\")\n",
        "                    plt.ylabel(\"Loss\")\n",
        "                    plt.legend()\n",
        "                    plt.show()"
      ],
      "metadata": {
        "id": "usry-eo37HDs"
      },
      "execution_count": 28,
      "outputs": []
    },
    {
      "cell_type": "code",
      "source": [
        "data.columns"
      ],
      "metadata": {
        "colab": {
          "base_uri": "https://localhost:8080/"
        },
        "id": "OM4xufQO9AlH",
        "outputId": "8919a4e8-ce54-4997-ce6f-80acf468b162"
      },
      "execution_count": 29,
      "outputs": [
        {
          "output_type": "execute_result",
          "data": {
            "text/plain": [
              "Index(['L1', 'L2', 'L3', 'L4', 'L5', 'L6', 'L7', 'L8', 'L9', 'H1', 'E1', 'E2',\n",
              "       'E3', 'E4', 'E5', 'label', 'Year', 'Day', 'month'],\n",
              "      dtype='object')"
            ]
          },
          "metadata": {},
          "execution_count": 29
        }
      ]
    },
    {
      "cell_type": "markdown",
      "source": [
        "## **Classifying using real trainset**"
      ],
      "metadata": {
        "id": "qiAZRm57Pz1o"
      }
    },
    {
      "cell_type": "code",
      "source": [
        "lgb_1 = lgb.LGBMClassifier()\n",
        "lgb_1.fit(X_train1, y_train1)\n",
        "\n",
        "y_pred = lgb_1.predict(X_test1)\n",
        "\n",
        "# evaluation\n",
        "print(classification_report(y_test1, y_pred))\n",
        "plot_confusion_matrix(lgb_1, X_test1, y_test1)\n",
        "plt.show()"
      ],
      "metadata": {
        "colab": {
          "base_uri": "https://localhost:8080/",
          "height": 494
        },
        "id": "midQxZb67l2g",
        "outputId": "c660fcf9-02fb-4454-b470-f24da55e4991"
      },
      "execution_count": 30,
      "outputs": [
        {
          "output_type": "stream",
          "name": "stdout",
          "text": [
            "              precision    recall  f1-score   support\n",
            "\n",
            "           0       1.00      1.00      1.00     59856\n",
            "           1       1.00      1.00      1.00     60144\n",
            "\n",
            "    accuracy                           1.00    120000\n",
            "   macro avg       1.00      1.00      1.00    120000\n",
            "weighted avg       1.00      1.00      1.00    120000\n",
            "\n"
          ]
        },
        {
          "output_type": "stream",
          "name": "stderr",
          "text": [
            "/usr/local/lib/python3.7/dist-packages/sklearn/utils/deprecation.py:87: FutureWarning: Function plot_confusion_matrix is deprecated; Function `plot_confusion_matrix` is deprecated in 1.0 and will be removed in 1.2. Use one of the class methods: ConfusionMatrixDisplay.from_predictions or ConfusionMatrixDisplay.from_estimator.\n",
            "  warnings.warn(msg, category=FutureWarning)\n"
          ]
        },
        {
          "output_type": "display_data",
          "data": {
            "text/plain": [
              "<Figure size 432x288 with 2 Axes>"
            ],
            "image/png": "[encoded data removed]"
          },
          "metadata": {
            "needs_background": "light"
          }
        }
      ]
    },
    {
      "cell_type": "markdown",
      "source": [
        "## **Training cGAN**"
      ],
      "metadata": {
        "id": "J0toTadWP882"
      }
    },
    {
      "cell_type": "code",
      "source": [
        "cgan = cGAN()"
      ],
      "metadata": {
        "id": "gZoqXV4O7oUA"
      },
      "execution_count": 31,
      "outputs": []
    },
    {
      "cell_type": "code",
      "source": [
        "y_train1 = y_train1.reshape(-1,1)\n",
        "pos_index = np.where(y_train1==1)[0]\n",
        "neg_index = np.where(y_train1==0)[0]\n",
        "cgan.train(X_train1, y_train1, pos_index, neg_index, epochs=500)"
      ],
      "metadata": {
        "colab": {
          "base_uri": "https://localhost:8080/",
          "height": 437
        },
        "id": "1VP4cnvi7tib",
        "outputId": "d7c48680-99ad-47bf-fd2e-eecd5913af76"
      },
      "execution_count": 32,
      "outputs": [
        {
          "output_type": "stream",
          "name": "stdout",
          "text": [
            "[99/500]\tLoss_D: 0.6819\tLoss_G: 0.6915\n",
            "[199/500]\tLoss_D: 0.5976\tLoss_G: 0.8375\n",
            "[299/500]\tLoss_D: 0.4409\tLoss_G: 1.0248\n",
            "[399/500]\tLoss_D: 0.3753\tLoss_G: 1.4513\n",
            "[499/500]\tLoss_D: 0.2609\tLoss_G: 1.7833\n"
          ]
        },
        {
          "output_type": "display_data",
          "data": {
            "text/plain": [
              "<Figure size 720x360 with 1 Axes>"
            ],
            "image/png": "[encoded data removed]"
          },
          "metadata": {
            "needs_background": "light"
          }
        }
      ]
    },
    {
      "cell_type": "markdown",
      "source": [
        "## **Generate Synthetic Data**\n",
        "\n",
        "Will start to generate fake data using GANs. First step, we define a generate_latent_points function, it will create random noise in the latent space and be reshaped to the dimensions for matching the input of generator model."
      ],
      "metadata": {
        "id": "uWrb8HFPQFPn"
      }
    },
    {
      "cell_type": "code",
      "source": [
        "noise = np.random.normal(0, 1, (19758, 32))\n",
        "sampled_labels = np.zeros(19758).reshape(-1, 1)\n",
        "\n",
        "\n",
        "gen_samples = cgan.generator.predict([noise, sampled_labels])\n",
        "\n",
        "gen_df = pd.DataFrame(data = gen_samples,\n",
        "                      columns = data.drop('label',1).columns)"
      ],
      "metadata": {
        "id": "_X-GLIBC9hvZ",
        "colab": {
          "base_uri": "https://localhost:8080/"
        },
        "outputId": "18b489a4-711b-4b3c-807f-2b60f9486fcc"
      },
      "execution_count": 33,
      "outputs": [
        {
          "output_type": "stream",
          "name": "stderr",
          "text": [
            "/usr/local/lib/python3.7/dist-packages/ipykernel_launcher.py:8: FutureWarning: In a future version of pandas all arguments of DataFrame.drop except for the argument 'labels' will be keyword-only\n",
            "  \n"
          ]
        }
      ]
    },
    {
      "cell_type": "code",
      "source": [
        "# we want to generate 6290 instances with class value 1 since that represents how many 1s are in the label of the real training set\n",
        "noise_2 = np.random.normal(0, 1, (6290, 32))\n",
        "sampled_labels_2 = np.ones(6290).reshape(-1, 1)\n",
        "\n",
        "\n",
        "gen_samples_2 = cgan.generator.predict([noise_2, sampled_labels_2])\n",
        "\n",
        "gen_df_2 = pd.DataFrame(data = gen_samples_2,\n",
        "                      columns = data.drop('label',1).columns)"
      ],
      "metadata": {
        "colab": {
          "base_uri": "https://localhost:8080/"
        },
        "id": "UNIDcvQ4A-uN",
        "outputId": "85323951-ef39-40d2-b757-cfb351577b18"
      },
      "execution_count": 34,
      "outputs": [
        {
          "output_type": "stream",
          "name": "stderr",
          "text": [
            "/usr/local/lib/python3.7/dist-packages/ipykernel_launcher.py:9: FutureWarning: In a future version of pandas all arguments of DataFrame.drop except for the argument 'labels' will be keyword-only\n",
            "  if __name__ == '__main__':\n"
          ]
        }
      ]
    },
    {
      "cell_type": "markdown",
      "source": [
        "## **Combining generated synthetic data into a dataframe**"
      ],
      "metadata": {
        "id": "tKB7VSyyQKpH"
      }
    },
    {
      "cell_type": "code",
      "source": [
        "gen_df_2['label'] = 1\n",
        "gen_df['label']=0\n",
        "\n",
        "df_gan = pd.concat([gen_df_2, gen_df], ignore_index=True, sort=False)\n",
        "df_gan = df_gan.sample(frac=1).reset_index(drop=True)\n",
        "\n",
        "X_train_2 = df_gan.drop('label', 1)\n",
        "y_train_2 = df_gan['label'].values"
      ],
      "metadata": {
        "colab": {
          "base_uri": "https://localhost:8080/"
        },
        "id": "YSmQtN_mBKf_",
        "outputId": "8972845a-3d72-49bd-a787-27b2ae8b82bd"
      },
      "execution_count": 35,
      "outputs": [
        {
          "output_type": "stream",
          "name": "stderr",
          "text": [
            "/usr/local/lib/python3.7/dist-packages/ipykernel_launcher.py:7: FutureWarning: In a future version of pandas all arguments of DataFrame.drop except for the argument 'labels' will be keyword-only\n",
            "  import sys\n"
          ]
        }
      ]
    },
    {
      "cell_type": "markdown",
      "source": [
        "Classifying testset using generated trainset"
      ],
      "metadata": {
        "id": "svvLc3AkQPZg"
      }
    },
    {
      "cell_type": "code",
      "source": [
        "lgb_1 = lgb.LGBMClassifier()\n",
        "lgb_1.fit(X_train_2, y_train_2)\n",
        "\n",
        "\n",
        "y_pred1 = lgb_1.predict(X_test1)\n",
        "\n",
        "print(classification_report(y_test1, y_pred1))\n",
        "plot_confusion_matrix(lgb_1, X_test1, y_test1)\n",
        "plt.show()"
      ],
      "metadata": {
        "colab": {
          "base_uri": "https://localhost:8080/",
          "height": 490
        },
        "id": "lEGvBahRBPZv",
        "outputId": "b879ef16-e05c-4e74-8550-e27c4ff38336"
      },
      "execution_count": 36,
      "outputs": [
        {
          "output_type": "stream",
          "name": "stdout",
          "text": [
            "              precision    recall  f1-score   support\n",
            "\n",
            "           0       0.75      0.83      0.79     59856\n",
            "           1       0.81      0.73      0.77     60144\n",
            "\n",
            "    accuracy                           0.78    120000\n",
            "   macro avg       0.78      0.78      0.78    120000\n",
            "weighted avg       0.78      0.78      0.78    120000\n",
            "\n"
          ]
        },
        {
          "output_type": "stream",
          "name": "stderr",
          "text": [
            "/usr/local/lib/python3.7/dist-packages/sklearn/utils/deprecation.py:87: FutureWarning: Function plot_confusion_matrix is deprecated; Function `plot_confusion_matrix` is deprecated in 1.0 and will be removed in 1.2. Use one of the class methods: ConfusionMatrixDisplay.from_predictions or ConfusionMatrixDisplay.from_estimator.\n",
            "  warnings.warn(msg, category=FutureWarning)\n"
          ]
        },
        {
          "output_type": "display_data",
          "data": {
            "text/plain": [
              "<Figure size 432x288 with 2 Axes>"
            ],
            "image/png": "[encoded data removed]"
          },
          "metadata": {
            "needs_background": "light"
          }
        }
      ]
    },
    {
      "cell_type": "code",
      "source": [
        "# pip install catboost"
      ],
      "metadata": {
        "id": "zegFf6LMFYoJ"
      },
      "execution_count": 37,
      "outputs": []
    },
    {
      "cell_type": "code",
      "source": [
        "from catboost import CatBoostClassifier\n",
        "\n",
        "model= CatBoostClassifier(iterations=1000, \n",
        "                         depth=5,\n",
        "                         learning_rate=0.1,\n",
        "                         eval_metric='AUC',\n",
        "                         l2_leaf_reg=10,\n",
        "                         metric_period=50,\n",
        "                         thread_count=32,\n",
        "                         random_seed=42)\n",
        "model.fit(X_train_2, y_train_2,\n",
        "          verbose=False)\n",
        "\n",
        "y_pred2 = model.predict(X_test1)\n",
        "\n",
        "print(classification_report(y_test1, y_pred2))\n",
        "plot_confusion_matrix(model, X_test1, y_test1)\n",
        "plt.show()"
      ],
      "metadata": {
        "colab": {
          "base_uri": "https://localhost:8080/",
          "height": 490
        },
        "id": "BrcbLZruFKOo",
        "outputId": "07c062fa-bbac-44da-9b3b-b77638058ac3"
      },
      "execution_count": 38,
      "outputs": [
        {
          "output_type": "stream",
          "name": "stdout",
          "text": [
            "              precision    recall  f1-score   support\n",
            "\n",
            "           0       0.74      0.87      0.80     59856\n",
            "           1       0.84      0.69      0.76     60144\n",
            "\n",
            "    accuracy                           0.78    120000\n",
            "   macro avg       0.79      0.78      0.78    120000\n",
            "weighted avg       0.79      0.78      0.78    120000\n",
            "\n"
          ]
        },
        {
          "output_type": "stream",
          "name": "stderr",
          "text": [
            "/usr/local/lib/python3.7/dist-packages/sklearn/utils/deprecation.py:87: FutureWarning: Function plot_confusion_matrix is deprecated; Function `plot_confusion_matrix` is deprecated in 1.0 and will be removed in 1.2. Use one of the class methods: ConfusionMatrixDisplay.from_predictions or ConfusionMatrixDisplay.from_estimator.\n",
            "  warnings.warn(msg, category=FutureWarning)\n"
          ]
        },
        {
          "output_type": "display_data",
          "data": {
            "text/plain": [
              "<Figure size 432x288 with 2 Axes>"
            ],
            "image/png": "[encoded data removed]"
          },
          "metadata": {
            "needs_background": "light"
          }
        }
      ]
    },
    {
      "cell_type": "code",
      "source": [
        "from sklearn.ensemble import RandomForestClassifier\n",
        "clf = RandomForestClassifier(max_depth=2, random_state=0)\n",
        "clf.fit(X_train_2, y_train_2)\n",
        "y_pred3 = clf.predict(X_test1)\n",
        "\n",
        "print(classification_report(y_test1, y_pred3))\n",
        "plot_confusion_matrix(clf, X_test1, y_test1)\n",
        "plt.show()"
      ],
      "metadata": {
        "colab": {
          "base_uri": "https://localhost:8080/",
          "height": 563
        },
        "id": "HYwsmM5FFS-q",
        "outputId": "642083a0-30ed-409d-d4df-fa1c24bba1cf"
      },
      "execution_count": 39,
      "outputs": [
        {
          "output_type": "stream",
          "name": "stderr",
          "text": [
            "/usr/local/lib/python3.7/dist-packages/sklearn/base.py:451: UserWarning: X does not have valid feature names, but RandomForestClassifier was fitted with feature names\n",
            "  \"X does not have valid feature names, but\"\n"
          ]
        },
        {
          "output_type": "stream",
          "name": "stdout",
          "text": [
            "              precision    recall  f1-score   support\n",
            "\n",
            "           0       0.50      0.99      0.66     59856\n",
            "           1       0.00      0.00      0.00     60144\n",
            "\n",
            "    accuracy                           0.50    120000\n",
            "   macro avg       0.25      0.50      0.33    120000\n",
            "weighted avg       0.25      0.50      0.33    120000\n",
            "\n"
          ]
        },
        {
          "output_type": "stream",
          "name": "stderr",
          "text": [
            "/usr/local/lib/python3.7/dist-packages/sklearn/utils/deprecation.py:87: FutureWarning: Function plot_confusion_matrix is deprecated; Function `plot_confusion_matrix` is deprecated in 1.0 and will be removed in 1.2. Use one of the class methods: ConfusionMatrixDisplay.from_predictions or ConfusionMatrixDisplay.from_estimator.\n",
            "  warnings.warn(msg, category=FutureWarning)\n",
            "/usr/local/lib/python3.7/dist-packages/sklearn/base.py:451: UserWarning: X does not have valid feature names, but RandomForestClassifier was fitted with feature names\n",
            "  \"X does not have valid feature names, but\"\n"
          ]
        },
        {
          "output_type": "display_data",
          "data": {
            "text/plain": [
              "<Figure size 432x288 with 2 Axes>"
            ],
            "image/png": "[encoded data removed]"
          },
          "metadata": {
            "needs_background": "light"
          }
        }
      ]
    },
    {
      "cell_type": "code",
      "source": [
        "# !pip install table_evaluator"
      ],
      "metadata": {
        "id": "eppyPNblTxhZ"
      },
      "execution_count": 40,
      "outputs": []
    },
    {
      "cell_type": "code",
      "source": [
        "data.head(5) # Real data"
      ],
      "metadata": {
        "colab": {
          "base_uri": "https://localhost:8080/",
          "height": 270
        },
        "id": "QljQbQzYQ_Lm",
        "outputId": "852e062e-ee32-4b96-a9ef-a233721adb97"
      },
      "execution_count": 41,
      "outputs": [
        {
          "output_type": "execute_result",
          "data": {
            "text/plain": [
              "         L1        L2        L3        L4        L5        L6        L7  \\\n",
              "0  0.641816 -0.054011  0.410045 -0.131091  0.609015  0.608043  0.244103   \n",
              "1  1.760059  0.648668 -1.046137 -0.131091 -0.935307 -0.891331  0.305365   \n",
              "2 -0.483291 -0.353410  1.138136 -0.131091  0.609015  0.608043 -0.266417   \n",
              "3  0.668374  0.828005  0.045999 -0.131091  0.609015  0.608043 -0.096244   \n",
              "4  0.561772  0.036716  0.410045 -0.131091  0.609015  0.608043 -0.123472   \n",
              "\n",
              "         L8        L9        H1        E1        E2        E3        E4  \\\n",
              "0 -0.076016  0.920029  3.725511  1.795242  2.574895  0.104891 -0.000316   \n",
              "1 -0.177530  1.568743 -0.448816  0.445164  0.660236  2.095805  1.472623   \n",
              "2 -0.169070 -0.950152 -0.037263  1.345216 -0.160332 -0.143973 -0.069688   \n",
              "3 -0.143692  1.349637 -0.507610 -0.454888  1.891088  1.349212  1.052806   \n",
              "4 -0.126773  0.940729  0.315497 -0.454888 -0.433855  0.353756  0.958693   \n",
              "\n",
              "         E5  label      Year       Day     month  \n",
              "0  2.781750      0  1.584444 -1.325646 -1.021590  \n",
              "1  0.705679      0  1.584444 -1.671569 -1.021590  \n",
              "2  0.498071      0 -0.631136 -0.403186 -0.427351  \n",
              "3  1.224696      0  1.584444  1.557043 -0.724471  \n",
              "4 -0.539965      0  1.584444  0.288660 -0.427351  "
            ],
            "text/html": [
              "\n",
              "  <div id=\"df-ada0b740-fb42-433f-9bd6-d97e7518fb01\">\n",
              "    <div class=\"colab-df-container\">\n",
              "      <div>\n",
              "<style scoped>\n",
              "    .dataframe tbody tr th:only-of-type {\n",
              "        vertical-align: middle;\n",
              "    }\n",
              "\n",
              "    .dataframe tbody tr th {\n",
              "        vertical-align: top;\n",
              "    }\n",
              "\n",
              "    .dataframe thead th {\n",
              "        text-align: right;\n",
              "    }\n",
              "</style>\n",
              "<table border=\"1\" class=\"dataframe\">\n",
              "  <thead>\n",
              "    <tr style=\"text-align: right;\">\n",
              "      <th></th>\n",
              "      <th>L1</th>\n",
              "      <th>L2</th>\n",
              "      <th>L3</th>\n",
              "      <th>L4</th>\n",
              "      <th>L5</th>\n",
              "      <th>L6</th>\n",
              "      <th>L7</th>\n",
              "      <th>L8</th>\n",
              "      <th>L9</th>\n",
              "      <th>H1</th>\n",
              "      <th>E1</th>\n",
              "      <th>E2</th>\n",
              "      <th>E3</th>\n",
              "      <th>E4</th>\n",
              "      <th>E5</th>\n",
              "      <th>label</th>\n",
              "      <th>Year</th>\n",
              "      <th>Day</th>\n",
              "      <th>month</th>\n",
              "    </tr>\n",
              "  </thead>\n",
              "  <tbody>\n",
              "    <tr>\n",
              "      <th>0</th>\n",
              "      <td>0.641816</td>\n",
              "      <td>-0.054011</td>\n",
              "      <td>0.410045</td>\n",
              "      <td>-0.131091</td>\n",
              "      <td>0.609015</td>\n",
              "      <td>0.608043</td>\n",
              "      <td>0.244103</td>\n",
              "      <td>-0.076016</td>\n",
              "      <td>0.920029</td>\n",
              "      <td>3.725511</td>\n",
              "      <td>1.795242</td>\n",
              "      <td>2.574895</td>\n",
              "      <td>0.104891</td>\n",
              "      <td>-0.000316</td>\n",
              "      <td>2.781750</td>\n",
              "      <td>0</td>\n",
              "      <td>1.584444</td>\n",
              "      <td>-1.325646</td>\n",
              "      <td>-1.021590</td>\n",
              "    </tr>\n",
              "    <tr>\n",
              "      <th>1</th>\n",
              "      <td>1.760059</td>\n",
              "      <td>0.648668</td>\n",
              "      <td>-1.046137</td>\n",
              "      <td>-0.131091</td>\n",
              "      <td>-0.935307</td>\n",
              "      <td>-0.891331</td>\n",
              "      <td>0.305365</td>\n",
              "      <td>-0.177530</td>\n",
              "      <td>1.568743</td>\n",
              "      <td>-0.448816</td>\n",
              "      <td>0.445164</td>\n",
              "      <td>0.660236</td>\n",
              "      <td>2.095805</td>\n",
              "      <td>1.472623</td>\n",
              "      <td>0.705679</td>\n",
              "      <td>0</td>\n",
              "      <td>1.584444</td>\n",
              "      <td>-1.671569</td>\n",
              "      <td>-1.021590</td>\n",
              "    </tr>\n",
              "    <tr>\n",
              "      <th>2</th>\n",
              "      <td>-0.483291</td>\n",
              "      <td>-0.353410</td>\n",
              "      <td>1.138136</td>\n",
              "      <td>-0.131091</td>\n",
              "      <td>0.609015</td>\n",
              "      <td>0.608043</td>\n",
              "      <td>-0.266417</td>\n",
              "      <td>-0.169070</td>\n",
              "      <td>-0.950152</td>\n",
              "      <td>-0.037263</td>\n",
              "      <td>1.345216</td>\n",
              "      <td>-0.160332</td>\n",
              "      <td>-0.143973</td>\n",
              "      <td>-0.069688</td>\n",
              "      <td>0.498071</td>\n",
              "      <td>0</td>\n",
              "      <td>-0.631136</td>\n",
              "      <td>-0.403186</td>\n",
              "      <td>-0.427351</td>\n",
              "    </tr>\n",
              "    <tr>\n",
              "      <th>3</th>\n",
              "      <td>0.668374</td>\n",
              "      <td>0.828005</td>\n",
              "      <td>0.045999</td>\n",
              "      <td>-0.131091</td>\n",
              "      <td>0.609015</td>\n",
              "      <td>0.608043</td>\n",
              "      <td>-0.096244</td>\n",
              "      <td>-0.143692</td>\n",
              "      <td>1.349637</td>\n",
              "      <td>-0.507610</td>\n",
              "      <td>-0.454888</td>\n",
              "      <td>1.891088</td>\n",
              "      <td>1.349212</td>\n",
              "      <td>1.052806</td>\n",
              "      <td>1.224696</td>\n",
              "      <td>0</td>\n",
              "      <td>1.584444</td>\n",
              "      <td>1.557043</td>\n",
              "      <td>-0.724471</td>\n",
              "    </tr>\n",
              "    <tr>\n",
              "      <th>4</th>\n",
              "      <td>0.561772</td>\n",
              "      <td>0.036716</td>\n",
              "      <td>0.410045</td>\n",
              "      <td>-0.131091</td>\n",
              "      <td>0.609015</td>\n",
              "      <td>0.608043</td>\n",
              "      <td>-0.123472</td>\n",
              "      <td>-0.126773</td>\n",
              "      <td>0.940729</td>\n",
              "      <td>0.315497</td>\n",
              "      <td>-0.454888</td>\n",
              "      <td>-0.433855</td>\n",
              "      <td>0.353756</td>\n",
              "      <td>0.958693</td>\n",
              "      <td>-0.539965</td>\n",
              "      <td>0</td>\n",
              "      <td>1.584444</td>\n",
              "      <td>0.288660</td>\n",
              "      <td>-0.427351</td>\n",
              "    </tr>\n",
              "  </tbody>\n",
              "</table>\n",
              "</div>\n",
              "      <button class=\"colab-df-convert\" onclick=\"convertToInteractive('df-ada0b740-fb42-433f-9bd6-d97e7518fb01')\"\n",
              "              title=\"Convert this dataframe to an interactive table.\"\n",
              "              style=\"display:none;\">\n",
              "        \n",
              "  <svg xmlns=\"http://www.w3.org/2000/svg\" height=\"24px\"viewBox=\"0 0 24 24\"\n",
              "       width=\"24px\">\n",
              "    <path d=\"M0 0h24v24H0V0z\" fill=\"none\"/>\n",
              "    <path d=\"M18.56 5.44l.94 2.06.94-2.06 2.06-.94-2.06-.94-.94-2.06-.94 2.06-2.06.94zm-11 1L8.5 8.5l.94-2.06 2.06-.94-2.06-.94L8.5 2.5l-.94 2.06-2.06.94zm10 10l.94 2.06.94-2.06 2.06-.94-2.06-.94-.94-2.06-.94 2.06-2.06.94z\"/><path d=\"M17.41 7.96l-1.37-1.37c-.4-.4-.92-.59-1.43-.59-.52 0-1.04.2-1.43.59L10.3 9.45l-7.72 7.72c-.78.78-.78 2.05 0 2.83L4 21.41c.39.39.9.59 1.41.59.51 0 1.02-.2 1.41-.59l7.78-7.78 2.81-2.81c.8-.78.8-2.07 0-2.86zM5.41 20L4 18.59l7.72-7.72 1.47 1.35L5.41 20z\"/>\n",
              "  </svg>\n",
              "      </button>\n",
              "      \n",
              "  <style>\n",
              "    .colab-df-container {\n",
              "      display:flex;\n",
              "      flex-wrap:wrap;\n",
              "      gap: 12px;\n",
              "    }\n",
              "\n",
              "    .colab-df-convert {\n",
              "      background-color: #E8F0FE;\n",
              "      border: none;\n",
              "      border-radius: 50%;\n",
              "      cursor: pointer;\n",
              "      display: none;\n",
              "      fill: #1967D2;\n",
              "      height: 32px;\n",
              "      padding: 0 0 0 0;\n",
              "      width: 32px;\n",
              "    }\n",
              "\n",
              "    .colab-df-convert:hover {\n",
              "      background-color: #E2EBFA;\n",
              "      box-shadow: 0px 1px 2px rgba(60, 64, 67, 0.3), 0px 1px 3px 1px rgba(60, 64, 67, 0.15);\n",
              "      fill: #174EA6;\n",
              "    }\n",
              "\n",
              "    [theme=dark] .colab-df-convert {\n",
              "      background-color: #3B4455;\n",
              "      fill: #D2E3FC;\n",
              "    }\n",
              "\n",
              "    [theme=dark] .colab-df-convert:hover {\n",
              "      background-color: #434B5C;\n",
              "      box-shadow: 0px 1px 3px 1px rgba(0, 0, 0, 0.15);\n",
              "      filter: drop-shadow(0px 1px 2px rgba(0, 0, 0, 0.3));\n",
              "      fill: #FFFFFF;\n",
              "    }\n",
              "  </style>\n",
              "\n",
              "      <script>\n",
              "        const buttonEl =\n",
              "          document.querySelector('#df-ada0b740-fb42-433f-9bd6-d97e7518fb01 button.colab-df-convert');\n",
              "        buttonEl.style.display =\n",
              "          google.colab.kernel.accessAllowed ? 'block' : 'none';\n",
              "\n",
              "        async function convertToInteractive(key) {\n",
              "          const element = document.querySelector('#df-ada0b740-fb42-433f-9bd6-d97e7518fb01');\n",
              "          const dataTable =\n",
              "            await google.colab.kernel.invokeFunction('convertToInteractive',\n",
              "                                                     [key], {});\n",
              "          if (!dataTable) return;\n",
              "\n",
              "          const docLinkHtml = 'Like what you see? Visit the ' +\n",
              "            '<a target=\"_blank\" href=https://colab.research.google.com/notebooks/data_table.ipynb>data table notebook</a>'\n",
              "            + ' to learn more about interactive tables.';\n",
              "          element.innerHTML = '';\n",
              "          dataTable['output_type'] = 'display_data';\n",
              "          await google.colab.output.renderOutput(dataTable, element);\n",
              "          const docLink = document.createElement('div');\n",
              "          docLink.innerHTML = docLinkHtml;\n",
              "          element.appendChild(docLink);\n",
              "        }\n",
              "      </script>\n",
              "    </div>\n",
              "  </div>\n",
              "  "
            ]
          },
          "metadata": {},
          "execution_count": 41
        }
      ]
    },
    {
      "cell_type": "code",
      "source": [
        "df_gan.head(5) # Fake Data"
      ],
      "metadata": {
        "colab": {
          "base_uri": "https://localhost:8080/",
          "height": 270
        },
        "id": "yvOdZVf9YftJ",
        "outputId": "c2d5b5c2-c6b0-49ee-ae35-5c536146b742"
      },
      "execution_count": 42,
      "outputs": [
        {
          "output_type": "execute_result",
          "data": {
            "text/plain": [
              "         L1        L2        L3        L4        L5        L6        L7  \\\n",
              "0  0.785023 -0.112402  1.000000 -0.816212  1.000000  1.000000 -0.245782   \n",
              "1 -0.053463  0.995321  0.999890 -0.990497  0.997962  0.998640  0.894954   \n",
              "2 -0.127741  0.987771 -0.999974 -0.996725 -0.999613 -0.993057  0.954598   \n",
              "3 -0.511502  0.999943 -0.999999 -0.999840 -0.999997 -0.999287 -0.825960   \n",
              "4  0.483612  0.999684  1.000000 -0.997412  1.000000  1.000000 -0.999785   \n",
              "\n",
              "         L8        L9        H1        E1        E2        E3        E4  \\\n",
              "0 -0.866688  1.000000  0.322688 -0.999988 -0.984409 -1.000000 -1.000000   \n",
              "1  0.005733  0.999405 -0.984107 -0.979749 -0.992681 -1.000000 -1.000000   \n",
              "2  0.128845 -0.999995 -0.999495 -0.865393 -0.999005 -0.990986 -0.978455   \n",
              "3 -0.371485 -0.999985 -0.999960 -0.999756 -0.999999 -0.997438 -0.999106   \n",
              "4 -0.731994  1.000000  0.999896 -1.000000 -0.950516 -1.000000 -1.000000   \n",
              "\n",
              "         E5      Year       Day     month  label  \n",
              "0 -0.999993 -0.755430 -0.187542 -0.992263      0  \n",
              "1 -1.000000 -0.997633 -0.714669  0.769546      0  \n",
              "2 -0.999998 -0.957896  0.650543  0.985981      1  \n",
              "3 -0.999992 -0.524368  0.363887  0.727686      1  \n",
              "4 -1.000000 -0.999997 -0.957007 -0.489507      0  "
            ],
            "text/html": [
              "\n",
              "  <div id=\"df-536a2650-7a2d-4120-8a77-ca5bd9527fde\">\n",
              "    <div class=\"colab-df-container\">\n",
              "      <div>\n",
              "<style scoped>\n",
              "    .dataframe tbody tr th:only-of-type {\n",
              "        vertical-align: middle;\n",
              "    }\n",
              "\n",
              "    .dataframe tbody tr th {\n",
              "        vertical-align: top;\n",
              "    }\n",
              "\n",
              "    .dataframe thead th {\n",
              "        text-align: right;\n",
              "    }\n",
              "</style>\n",
              "<table border=\"1\" class=\"dataframe\">\n",
              "  <thead>\n",
              "    <tr style=\"text-align: right;\">\n",
              "      <th></th>\n",
              "      <th>L1</th>\n",
              "      <th>L2</th>\n",
              "      <th>L3</th>\n",
              "      <th>L4</th>\n",
              "      <th>L5</th>\n",
              "      <th>L6</th>\n",
              "      <th>L7</th>\n",
              "      <th>L8</th>\n",
              "      <th>L9</th>\n",
              "      <th>H1</th>\n",
              "      <th>E1</th>\n",
              "      <th>E2</th>\n",
              "      <th>E3</th>\n",
              "      <th>E4</th>\n",
              "      <th>E5</th>\n",
              "      <th>Year</th>\n",
              "      <th>Day</th>\n",
              "      <th>month</th>\n",
              "      <th>label</th>\n",
              "    </tr>\n",
              "  </thead>\n",
              "  <tbody>\n",
              "    <tr>\n",
              "      <th>0</th>\n",
              "      <td>0.785023</td>\n",
              "      <td>-0.112402</td>\n",
              "      <td>1.000000</td>\n",
              "      <td>-0.816212</td>\n",
              "      <td>1.000000</td>\n",
              "      <td>1.000000</td>\n",
              "      <td>-0.245782</td>\n",
              "      <td>-0.866688</td>\n",
              "      <td>1.000000</td>\n",
              "      <td>0.322688</td>\n",
              "      <td>-0.999988</td>\n",
              "      <td>-0.984409</td>\n",
              "      <td>-1.000000</td>\n",
              "      <td>-1.000000</td>\n",
              "      <td>-0.999993</td>\n",
              "      <td>-0.755430</td>\n",
              "      <td>-0.187542</td>\n",
              "      <td>-0.992263</td>\n",
              "      <td>0</td>\n",
              "    </tr>\n",
              "    <tr>\n",
              "      <th>1</th>\n",
              "      <td>-0.053463</td>\n",
              "      <td>0.995321</td>\n",
              "      <td>0.999890</td>\n",
              "      <td>-0.990497</td>\n",
              "      <td>0.997962</td>\n",
              "      <td>0.998640</td>\n",
              "      <td>0.894954</td>\n",
              "      <td>0.005733</td>\n",
              "      <td>0.999405</td>\n",
              "      <td>-0.984107</td>\n",
              "      <td>-0.979749</td>\n",
              "      <td>-0.992681</td>\n",
              "      <td>-1.000000</td>\n",
              "      <td>-1.000000</td>\n",
              "      <td>-1.000000</td>\n",
              "      <td>-0.997633</td>\n",
              "      <td>-0.714669</td>\n",
              "      <td>0.769546</td>\n",
              "      <td>0</td>\n",
              "    </tr>\n",
              "    <tr>\n",
              "      <th>2</th>\n",
              "      <td>-0.127741</td>\n",
              "      <td>0.987771</td>\n",
              "      <td>-0.999974</td>\n",
              "      <td>-0.996725</td>\n",
              "      <td>-0.999613</td>\n",
              "      <td>-0.993057</td>\n",
              "      <td>0.954598</td>\n",
              "      <td>0.128845</td>\n",
              "      <td>-0.999995</td>\n",
              "      <td>-0.999495</td>\n",
              "      <td>-0.865393</td>\n",
              "      <td>-0.999005</td>\n",
              "      <td>-0.990986</td>\n",
              "      <td>-0.978455</td>\n",
              "      <td>-0.999998</td>\n",
              "      <td>-0.957896</td>\n",
              "      <td>0.650543</td>\n",
              "      <td>0.985981</td>\n",
              "      <td>1</td>\n",
              "    </tr>\n",
              "    <tr>\n",
              "      <th>3</th>\n",
              "      <td>-0.511502</td>\n",
              "      <td>0.999943</td>\n",
              "      <td>-0.999999</td>\n",
              "      <td>-0.999840</td>\n",
              "      <td>-0.999997</td>\n",
              "      <td>-0.999287</td>\n",
              "      <td>-0.825960</td>\n",
              "      <td>-0.371485</td>\n",
              "      <td>-0.999985</td>\n",
              "      <td>-0.999960</td>\n",
              "      <td>-0.999756</td>\n",
              "      <td>-0.999999</td>\n",
              "      <td>-0.997438</td>\n",
              "      <td>-0.999106</td>\n",
              "      <td>-0.999992</td>\n",
              "      <td>-0.524368</td>\n",
              "      <td>0.363887</td>\n",
              "      <td>0.727686</td>\n",
              "      <td>1</td>\n",
              "    </tr>\n",
              "    <tr>\n",
              "      <th>4</th>\n",
              "      <td>0.483612</td>\n",
              "      <td>0.999684</td>\n",
              "      <td>1.000000</td>\n",
              "      <td>-0.997412</td>\n",
              "      <td>1.000000</td>\n",
              "      <td>1.000000</td>\n",
              "      <td>-0.999785</td>\n",
              "      <td>-0.731994</td>\n",
              "      <td>1.000000</td>\n",
              "      <td>0.999896</td>\n",
              "      <td>-1.000000</td>\n",
              "      <td>-0.950516</td>\n",
              "      <td>-1.000000</td>\n",
              "      <td>-1.000000</td>\n",
              "      <td>-1.000000</td>\n",
              "      <td>-0.999997</td>\n",
              "      <td>-0.957007</td>\n",
              "      <td>-0.489507</td>\n",
              "      <td>0</td>\n",
              "    </tr>\n",
              "  </tbody>\n",
              "</table>\n",
              "</div>\n",
              "      <button class=\"colab-df-convert\" onclick=\"convertToInteractive('df-536a2650-7a2d-4120-8a77-ca5bd9527fde')\"\n",
              "              title=\"Convert this dataframe to an interactive table.\"\n",
              "              style=\"display:none;\">\n",
              "        \n",
              "  <svg xmlns=\"http://www.w3.org/2000/svg\" height=\"24px\"viewBox=\"0 0 24 24\"\n",
              "       width=\"24px\">\n",
              "    <path d=\"M0 0h24v24H0V0z\" fill=\"none\"/>\n",
              "    <path d=\"M18.56 5.44l.94 2.06.94-2.06 2.06-.94-2.06-.94-.94-2.06-.94 2.06-2.06.94zm-11 1L8.5 8.5l.94-2.06 2.06-.94-2.06-.94L8.5 2.5l-.94 2.06-2.06.94zm10 10l.94 2.06.94-2.06 2.06-.94-2.06-.94-.94-2.06-.94 2.06-2.06.94z\"/><path d=\"M17.41 7.96l-1.37-1.37c-.4-.4-.92-.59-1.43-.59-.52 0-1.04.2-1.43.59L10.3 9.45l-7.72 7.72c-.78.78-.78 2.05 0 2.83L4 21.41c.39.39.9.59 1.41.59.51 0 1.02-.2 1.41-.59l7.78-7.78 2.81-2.81c.8-.78.8-2.07 0-2.86zM5.41 20L4 18.59l7.72-7.72 1.47 1.35L5.41 20z\"/>\n",
              "  </svg>\n",
              "      </button>\n",
              "      \n",
              "  <style>\n",
              "    .colab-df-container {\n",
              "      display:flex;\n",
              "      flex-wrap:wrap;\n",
              "      gap: 12px;\n",
              "    }\n",
              "\n",
              "    .colab-df-convert {\n",
              "      background-color: #E8F0FE;\n",
              "      border: none;\n",
              "      border-radius: 50%;\n",
              "      cursor: pointer;\n",
              "      display: none;\n",
              "      fill: #1967D2;\n",
              "      height: 32px;\n",
              "      padding: 0 0 0 0;\n",
              "      width: 32px;\n",
              "    }\n",
              "\n",
              "    .colab-df-convert:hover {\n",
              "      background-color: #E2EBFA;\n",
              "      box-shadow: 0px 1px 2px rgba(60, 64, 67, 0.3), 0px 1px 3px 1px rgba(60, 64, 67, 0.15);\n",
              "      fill: #174EA6;\n",
              "    }\n",
              "\n",
              "    [theme=dark] .colab-df-convert {\n",
              "      background-color: #3B4455;\n",
              "      fill: #D2E3FC;\n",
              "    }\n",
              "\n",
              "    [theme=dark] .colab-df-convert:hover {\n",
              "      background-color: #434B5C;\n",
              "      box-shadow: 0px 1px 3px 1px rgba(0, 0, 0, 0.15);\n",
              "      filter: drop-shadow(0px 1px 2px rgba(0, 0, 0, 0.3));\n",
              "      fill: #FFFFFF;\n",
              "    }\n",
              "  </style>\n",
              "\n",
              "      <script>\n",
              "        const buttonEl =\n",
              "          document.querySelector('#df-536a2650-7a2d-4120-8a77-ca5bd9527fde button.colab-df-convert');\n",
              "        buttonEl.style.display =\n",
              "          google.colab.kernel.accessAllowed ? 'block' : 'none';\n",
              "\n",
              "        async function convertToInteractive(key) {\n",
              "          const element = document.querySelector('#df-536a2650-7a2d-4120-8a77-ca5bd9527fde');\n",
              "          const dataTable =\n",
              "            await google.colab.kernel.invokeFunction('convertToInteractive',\n",
              "                                                     [key], {});\n",
              "          if (!dataTable) return;\n",
              "\n",
              "          const docLinkHtml = 'Like what you see? Visit the ' +\n",
              "            '<a target=\"_blank\" href=https://colab.research.google.com/notebooks/data_table.ipynb>data table notebook</a>'\n",
              "            + ' to learn more about interactive tables.';\n",
              "          element.innerHTML = '';\n",
              "          dataTable['output_type'] = 'display_data';\n",
              "          await google.colab.output.renderOutput(dataTable, element);\n",
              "          const docLink = document.createElement('div');\n",
              "          docLink.innerHTML = docLinkHtml;\n",
              "          element.appendChild(docLink);\n",
              "        }\n",
              "      </script>\n",
              "    </div>\n",
              "  </div>\n",
              "  "
            ]
          },
          "metadata": {},
          "execution_count": 42
        }
      ]
    },
    {
      "cell_type": "code",
      "source": [
        "cat_cols = ['L1','L2','L3']"
      ],
      "metadata": {
        "id": "C4tZ07R9U41r"
      },
      "execution_count": 43,
      "outputs": []
    },
    {
      "cell_type": "code",
      "source": [
        "# pip install table-evaluator"
      ],
      "metadata": {
        "id": "qyO9gWU_HVGv"
      },
      "execution_count": 44,
      "outputs": []
    },
    {
      "cell_type": "code",
      "source": [
        "from table_evaluator import load_data, TableEvaluator\n",
        "table_evaluator = TableEvaluator(data, df_gan, cat_cols=cat_cols)\n",
        "#table_evaluator.evaluate(target_col=cat_cols)"
      ],
      "metadata": {
        "id": "UZGBaAkTXrZq"
      },
      "execution_count": 45,
      "outputs": []
    },
    {
      "cell_type": "code",
      "source": [
        "table_evaluator.visual_evaluation()"
      ],
      "metadata": {
        "colab": {
          "base_uri": "https://localhost:8080/",
          "height": 370
        },
        "id": "yRCH8GjAYSUP",
        "outputId": "d953a450-37c7-4259-95af-d7ba7207f95c"
      },
      "execution_count": null,
      "outputs": [
        {
          "output_type": "display_data",
          "data": {
            "text/plain": [
              "<Figure size 720x360 with 2 Axes>"
            ],
            "image/png": "[encoded data removed]"
          },
          "metadata": {
            "needs_background": "light"
          }
        }
      ]
    },
    {
      "cell_type": "code",
      "source": [
        ""
      ],
      "metadata": {
        "id": "heu_eb2uaACx"
      },
      "execution_count": null,
      "outputs": []
    }
  ]
}